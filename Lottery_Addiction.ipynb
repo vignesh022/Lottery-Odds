{
 "cells": [
  {
   "cell_type": "markdown",
   "metadata": {},
   "source": [
    "# Are Lotter tickets worth the money spent on them\n",
    "\n",
    "The lottery ticket is often viewed as a easiest way to get rich quick. The odds of a lottery ticket paying up the big prize at the end are often miniscule especially when you consider the huge sample space of outcomes possible.\n",
    "\n",
    "Lottery tickets similar to gambling has the potential to develop from leisure into an addictable activity and have serious financial consequences on the personal lives of those addicted to buying lottery tickets.\n",
    "\n",
    "Recently medical institutions combating gambling addictions have turned to using technology to help educate their patients on the reality behind lottery odds. They are using mobile apps to allow addicts to estimate their chances at winning the big prize and realize how low their chances truly are.\n",
    "\n",
    "This project attempts to create a probabilistic determination of lottery odds using real world data. Historical data is available from 1982 to 2018 for the [Lotto 6/49](https://en.wikipedia.org/wiki/Lotto_6/49), which is one of the national lottery schemes in Canada, let us try and compute the probability of a single ticket or mulitple tickets being able to win the grand prize."
   ]
  },
  {
   "cell_type": "code",
   "execution_count": 1,
   "metadata": {
    "collapsed": true
   },
   "outputs": [],
   "source": [
    "import pandas as pd\n",
    "import numpy as np\n",
    "\n",
    "def factorial(n):\n",
    "    if n==0:\n",
    "        return 1\n",
    "    else:\n",
    "        return (n*factorial(n-1))\n",
    "    \n",
    "def combinations(n,k):\n",
    "    return (factorial(n)/(factorial(k)*factorial(n-k)))"
   ]
  },
  {
   "cell_type": "code",
   "execution_count": 2,
   "metadata": {
    "collapsed": false,
    "scrolled": true
   },
   "outputs": [
    {
     "name": "stdout",
     "output_type": "stream",
     "text": [
      "The odds of you winning the lottery with that ticket are: 0.000007%\n"
     ]
    }
   ],
   "source": [
    "def lottery_odds(t):\n",
    "    t_outcomes = combinations(49,len(t))\n",
    "    odds = ((1/t_outcomes)*100)\n",
    "    str = \"The odds of you winning the lottery with that ticket are: {0:.6f}%\"\n",
    "    return (print(str.format(odds)))\n",
    "\n",
    "lottery_odds([13,62,73,34,95,86])"
   ]
  },
  {
   "cell_type": "markdown",
   "metadata": {},
   "source": [
    "The simple function \"lottery_odds\" defined above allows for easy calculation of the probability that any single ticket has at winning the Lotto 6/49 lottery."
   ]
  },
  {
   "cell_type": "code",
   "execution_count": 3,
   "metadata": {
    "collapsed": false
   },
   "outputs": [
    {
     "data": {
      "text/plain": [
       "(3665, 11)"
      ]
     },
     "execution_count": 3,
     "metadata": {},
     "output_type": "execute_result"
    }
   ],
   "source": [
    "lottery_data = pd.read_csv(\"649.csv\")\n",
    "lottery_data.shape"
   ]
  },
  {
   "cell_type": "code",
   "execution_count": 4,
   "metadata": {
    "collapsed": false
   },
   "outputs": [
    {
     "data": {
      "text/html": [
       "<div>\n",
       "<style scoped>\n",
       "    .dataframe tbody tr th:only-of-type {\n",
       "        vertical-align: middle;\n",
       "    }\n",
       "\n",
       "    .dataframe tbody tr th {\n",
       "        vertical-align: top;\n",
       "    }\n",
       "\n",
       "    .dataframe thead th {\n",
       "        text-align: right;\n",
       "    }\n",
       "</style>\n",
       "<table border=\"1\" class=\"dataframe\">\n",
       "  <thead>\n",
       "    <tr style=\"text-align: right;\">\n",
       "      <th></th>\n",
       "      <th>PRODUCT</th>\n",
       "      <th>DRAW NUMBER</th>\n",
       "      <th>SEQUENCE NUMBER</th>\n",
       "      <th>DRAW DATE</th>\n",
       "      <th>NUMBER DRAWN 1</th>\n",
       "      <th>NUMBER DRAWN 2</th>\n",
       "      <th>NUMBER DRAWN 3</th>\n",
       "      <th>NUMBER DRAWN 4</th>\n",
       "      <th>NUMBER DRAWN 5</th>\n",
       "      <th>NUMBER DRAWN 6</th>\n",
       "      <th>BONUS NUMBER</th>\n",
       "    </tr>\n",
       "  </thead>\n",
       "  <tbody>\n",
       "    <tr>\n",
       "      <th>0</th>\n",
       "      <td>649</td>\n",
       "      <td>1</td>\n",
       "      <td>0</td>\n",
       "      <td>6/12/1982</td>\n",
       "      <td>3</td>\n",
       "      <td>11</td>\n",
       "      <td>12</td>\n",
       "      <td>14</td>\n",
       "      <td>41</td>\n",
       "      <td>43</td>\n",
       "      <td>13</td>\n",
       "    </tr>\n",
       "    <tr>\n",
       "      <th>1</th>\n",
       "      <td>649</td>\n",
       "      <td>2</td>\n",
       "      <td>0</td>\n",
       "      <td>6/19/1982</td>\n",
       "      <td>8</td>\n",
       "      <td>33</td>\n",
       "      <td>36</td>\n",
       "      <td>37</td>\n",
       "      <td>39</td>\n",
       "      <td>41</td>\n",
       "      <td>9</td>\n",
       "    </tr>\n",
       "    <tr>\n",
       "      <th>2</th>\n",
       "      <td>649</td>\n",
       "      <td>3</td>\n",
       "      <td>0</td>\n",
       "      <td>6/26/1982</td>\n",
       "      <td>1</td>\n",
       "      <td>6</td>\n",
       "      <td>23</td>\n",
       "      <td>24</td>\n",
       "      <td>27</td>\n",
       "      <td>39</td>\n",
       "      <td>34</td>\n",
       "    </tr>\n",
       "    <tr>\n",
       "      <th>3</th>\n",
       "      <td>649</td>\n",
       "      <td>4</td>\n",
       "      <td>0</td>\n",
       "      <td>7/3/1982</td>\n",
       "      <td>3</td>\n",
       "      <td>9</td>\n",
       "      <td>10</td>\n",
       "      <td>13</td>\n",
       "      <td>20</td>\n",
       "      <td>43</td>\n",
       "      <td>34</td>\n",
       "    </tr>\n",
       "    <tr>\n",
       "      <th>4</th>\n",
       "      <td>649</td>\n",
       "      <td>5</td>\n",
       "      <td>0</td>\n",
       "      <td>7/10/1982</td>\n",
       "      <td>5</td>\n",
       "      <td>14</td>\n",
       "      <td>21</td>\n",
       "      <td>31</td>\n",
       "      <td>34</td>\n",
       "      <td>47</td>\n",
       "      <td>45</td>\n",
       "    </tr>\n",
       "  </tbody>\n",
       "</table>\n",
       "</div>"
      ],
      "text/plain": [
       "   PRODUCT  DRAW NUMBER  SEQUENCE NUMBER  DRAW DATE  NUMBER DRAWN 1  \\\n",
       "0      649            1                0  6/12/1982               3   \n",
       "1      649            2                0  6/19/1982               8   \n",
       "2      649            3                0  6/26/1982               1   \n",
       "3      649            4                0   7/3/1982               3   \n",
       "4      649            5                0  7/10/1982               5   \n",
       "\n",
       "   NUMBER DRAWN 2  NUMBER DRAWN 3  NUMBER DRAWN 4  NUMBER DRAWN 5  \\\n",
       "0              11              12              14              41   \n",
       "1              33              36              37              39   \n",
       "2               6              23              24              27   \n",
       "3               9              10              13              20   \n",
       "4              14              21              31              34   \n",
       "\n",
       "   NUMBER DRAWN 6  BONUS NUMBER  \n",
       "0              43            13  \n",
       "1              41             9  \n",
       "2              39            34  \n",
       "3              43            34  \n",
       "4              47            45  "
      ]
     },
     "execution_count": 4,
     "metadata": {},
     "output_type": "execute_result"
    }
   ],
   "source": [
    "lottery_data.head(5)"
   ]
  },
  {
   "cell_type": "code",
   "execution_count": 5,
   "metadata": {
    "collapsed": false
   },
   "outputs": [
    {
     "data": {
      "text/html": [
       "<div>\n",
       "<style scoped>\n",
       "    .dataframe tbody tr th:only-of-type {\n",
       "        vertical-align: middle;\n",
       "    }\n",
       "\n",
       "    .dataframe tbody tr th {\n",
       "        vertical-align: top;\n",
       "    }\n",
       "\n",
       "    .dataframe thead th {\n",
       "        text-align: right;\n",
       "    }\n",
       "</style>\n",
       "<table border=\"1\" class=\"dataframe\">\n",
       "  <thead>\n",
       "    <tr style=\"text-align: right;\">\n",
       "      <th></th>\n",
       "      <th>PRODUCT</th>\n",
       "      <th>DRAW NUMBER</th>\n",
       "      <th>SEQUENCE NUMBER</th>\n",
       "      <th>DRAW DATE</th>\n",
       "      <th>NUMBER DRAWN 1</th>\n",
       "      <th>NUMBER DRAWN 2</th>\n",
       "      <th>NUMBER DRAWN 3</th>\n",
       "      <th>NUMBER DRAWN 4</th>\n",
       "      <th>NUMBER DRAWN 5</th>\n",
       "      <th>NUMBER DRAWN 6</th>\n",
       "      <th>BONUS NUMBER</th>\n",
       "    </tr>\n",
       "  </thead>\n",
       "  <tbody>\n",
       "    <tr>\n",
       "      <th>3660</th>\n",
       "      <td>649</td>\n",
       "      <td>3587</td>\n",
       "      <td>0</td>\n",
       "      <td>6/6/2018</td>\n",
       "      <td>10</td>\n",
       "      <td>15</td>\n",
       "      <td>23</td>\n",
       "      <td>38</td>\n",
       "      <td>40</td>\n",
       "      <td>41</td>\n",
       "      <td>35</td>\n",
       "    </tr>\n",
       "    <tr>\n",
       "      <th>3661</th>\n",
       "      <td>649</td>\n",
       "      <td>3588</td>\n",
       "      <td>0</td>\n",
       "      <td>6/9/2018</td>\n",
       "      <td>19</td>\n",
       "      <td>25</td>\n",
       "      <td>31</td>\n",
       "      <td>36</td>\n",
       "      <td>46</td>\n",
       "      <td>47</td>\n",
       "      <td>26</td>\n",
       "    </tr>\n",
       "    <tr>\n",
       "      <th>3662</th>\n",
       "      <td>649</td>\n",
       "      <td>3589</td>\n",
       "      <td>0</td>\n",
       "      <td>6/13/2018</td>\n",
       "      <td>6</td>\n",
       "      <td>22</td>\n",
       "      <td>24</td>\n",
       "      <td>31</td>\n",
       "      <td>32</td>\n",
       "      <td>34</td>\n",
       "      <td>16</td>\n",
       "    </tr>\n",
       "    <tr>\n",
       "      <th>3663</th>\n",
       "      <td>649</td>\n",
       "      <td>3590</td>\n",
       "      <td>0</td>\n",
       "      <td>6/16/2018</td>\n",
       "      <td>2</td>\n",
       "      <td>15</td>\n",
       "      <td>21</td>\n",
       "      <td>31</td>\n",
       "      <td>38</td>\n",
       "      <td>49</td>\n",
       "      <td>8</td>\n",
       "    </tr>\n",
       "    <tr>\n",
       "      <th>3664</th>\n",
       "      <td>649</td>\n",
       "      <td>3591</td>\n",
       "      <td>0</td>\n",
       "      <td>6/20/2018</td>\n",
       "      <td>14</td>\n",
       "      <td>24</td>\n",
       "      <td>31</td>\n",
       "      <td>35</td>\n",
       "      <td>37</td>\n",
       "      <td>48</td>\n",
       "      <td>17</td>\n",
       "    </tr>\n",
       "  </tbody>\n",
       "</table>\n",
       "</div>"
      ],
      "text/plain": [
       "      PRODUCT  DRAW NUMBER  SEQUENCE NUMBER  DRAW DATE  NUMBER DRAWN 1  \\\n",
       "3660      649         3587                0   6/6/2018              10   \n",
       "3661      649         3588                0   6/9/2018              19   \n",
       "3662      649         3589                0  6/13/2018               6   \n",
       "3663      649         3590                0  6/16/2018               2   \n",
       "3664      649         3591                0  6/20/2018              14   \n",
       "\n",
       "      NUMBER DRAWN 2  NUMBER DRAWN 3  NUMBER DRAWN 4  NUMBER DRAWN 5  \\\n",
       "3660              15              23              38              40   \n",
       "3661              25              31              36              46   \n",
       "3662              22              24              31              32   \n",
       "3663              15              21              31              38   \n",
       "3664              24              31              35              37   \n",
       "\n",
       "      NUMBER DRAWN 6  BONUS NUMBER  \n",
       "3660              41            35  \n",
       "3661              47            26  \n",
       "3662              34            16  \n",
       "3663              49             8  \n",
       "3664              48            17  "
      ]
     },
     "execution_count": 5,
     "metadata": {},
     "output_type": "execute_result"
    }
   ],
   "source": [
    "lottery_data.tail(5)"
   ]
  },
  {
   "cell_type": "markdown",
   "metadata": {
    "collapsed": true
   },
   "source": [
    "Let's look to extract all the previous number combinations to win the lottery jackpot and look for any possible pattern or repitition of numbers over the years."
   ]
  },
  {
   "cell_type": "code",
   "execution_count": 6,
   "metadata": {
    "collapsed": true
   },
   "outputs": [],
   "source": [
    "def extract_numbers(x):\n",
    "    return (set(x))"
   ]
  },
  {
   "cell_type": "code",
   "execution_count": 7,
   "metadata": {
    "collapsed": false
   },
   "outputs": [
    {
     "data": {
      "text/plain": [
       "0        {3, 41, 11, 12, 43, 14}\n",
       "1        {33, 36, 37, 39, 8, 41}\n",
       "2         {1, 6, 39, 23, 24, 27}\n",
       "3         {3, 9, 10, 43, 13, 20}\n",
       "4        {34, 5, 14, 47, 21, 31}\n",
       "5        {8, 41, 20, 21, 25, 31}\n",
       "6       {33, 36, 42, 18, 25, 28}\n",
       "7        {7, 40, 16, 17, 48, 31}\n",
       "8        {5, 38, 37, 10, 23, 27}\n",
       "9        {4, 37, 46, 15, 48, 30}\n",
       "10        {33, 38, 7, 9, 42, 21}\n",
       "11      {36, 11, 43, 17, 19, 20}\n",
       "12       {37, 7, 14, 47, 17, 20}\n",
       "13      {35, 44, 25, 28, 29, 30}\n",
       "14       {36, 39, 8, 41, 47, 18}\n",
       "15       {9, 12, 13, 14, 44, 48}\n",
       "16       {4, 40, 43, 44, 14, 18}\n",
       "17      {34, 35, 36, 13, 16, 18}\n",
       "18      {36, 11, 23, 25, 28, 29}\n",
       "19       {37, 7, 45, 18, 23, 25}\n",
       "20      {37, 11, 45, 18, 19, 31}\n",
       "21       {8, 14, 16, 48, 18, 31}\n",
       "22       {4, 11, 45, 23, 24, 25}\n",
       "23        {33, 34, 3, 4, 48, 19}\n",
       "24       {5, 43, 17, 21, 28, 30}\n",
       "25       {36, 6, 38, 46, 17, 24}\n",
       "26        {4, 9, 10, 11, 43, 46}\n",
       "27       {32, 33, 7, 13, 45, 23}\n",
       "28      {35, 37, 11, 18, 22, 28}\n",
       "29      {35, 45, 48, 25, 26, 31}\n",
       "                  ...           \n",
       "3635     {2, 10, 43, 44, 48, 28}\n",
       "3636      {1, 33, 9, 10, 43, 19}\n",
       "3637    {35, 43, 44, 46, 16, 17}\n",
       "3638       {1, 5, 39, 9, 41, 12}\n",
       "3639     {9, 11, 45, 49, 28, 30}\n",
       "3640    {11, 12, 46, 19, 24, 28}\n",
       "3641      {3, 7, 43, 47, 22, 26}\n",
       "3642       {34, 6, 8, 9, 40, 13}\n",
       "3643    {36, 40, 47, 49, 18, 22}\n",
       "3644      {32, 3, 7, 41, 10, 43}\n",
       "3645     {1, 36, 11, 48, 49, 19}\n",
       "3646    {39, 12, 17, 19, 22, 27}\n",
       "3647    {41, 12, 49, 19, 20, 30}\n",
       "3648    {40, 10, 46, 14, 16, 15}\n",
       "3649    {33, 34, 44, 46, 24, 31}\n",
       "3650      {4, 37, 36, 7, 49, 28}\n",
       "3651     {33, 4, 48, 18, 24, 26}\n",
       "3652    {36, 37, 15, 17, 21, 24}\n",
       "3653     {34, 37, 6, 44, 17, 21}\n",
       "3654    {39, 46, 19, 21, 28, 30}\n",
       "3655    {34, 38, 44, 14, 15, 28}\n",
       "3656      {4, 9, 42, 44, 15, 20}\n",
       "3657    {39, 12, 13, 44, 16, 23}\n",
       "3658     {38, 39, 9, 14, 17, 21}\n",
       "3659     {32, 2, 40, 45, 49, 26}\n",
       "3660    {38, 40, 41, 10, 15, 23}\n",
       "3661    {36, 46, 47, 19, 25, 31}\n",
       "3662     {32, 34, 6, 22, 24, 31}\n",
       "3663     {2, 38, 15, 49, 21, 31}\n",
       "3664    {35, 37, 14, 48, 24, 31}\n",
       "Length: 3665, dtype: object"
      ]
     },
     "execution_count": 7,
     "metadata": {},
     "output_type": "execute_result"
    }
   ],
   "source": [
    "winning_numbers = lottery_data.iloc[:,4:10].apply(extract_numbers,axis=1)\n",
    "winning_numbers"
   ]
  },
  {
   "cell_type": "code",
   "execution_count": 8,
   "metadata": {
    "collapsed": false
   },
   "outputs": [
    {
     "name": "stdout",
     "output_type": "stream",
     "text": [
      " The combination of {'2', '5', '6', '3', '1', '4'} has occured 0 times in the past, the odds of winning the lottery with your ticket are still 0.000007%.\n",
      "    \n"
     ]
    }
   ],
   "source": [
    "def check_historical_occurence(x,y):\n",
    "    x_set = set(x)\n",
    "    count=0\n",
    "    for each in y:\n",
    "        if x_set.issubset(each):\n",
    "            count+=1\n",
    "    print((''' The combination of {} has occured {} times in the past, the odds of winning the lottery with your ticket are still 0.000007%.\n",
    "    ''').format(x_set,count))\n",
    "    \n",
    "test = set('123456')\n",
    "check_historical_occurence(test,winning_numbers)"
   ]
  },
  {
   "cell_type": "markdown",
   "metadata": {},
   "source": [
    "Using our user defined function, the app will now be able to compare a given lottery ticket and it's numbers with historical data and check if there is any repeatability observed amongst the selection of numbers that won the jackpot."
   ]
  },
  {
   "cell_type": "code",
   "execution_count": 9,
   "metadata": {
    "collapsed": false
   },
   "outputs": [],
   "source": [
    "def multi_ticket_odds(x):\n",
    "    t_outcomes = combinations(49,6)\n",
    "    odds = ((x/t_outcomes)*100)\n",
    "    print(\"\"\"The odds of you winning the lottery with {0} tickets are: {1:.6f}%\"\"\".format(x,odds))"
   ]
  },
  {
   "cell_type": "code",
   "execution_count": 10,
   "metadata": {
    "collapsed": false
   },
   "outputs": [
    {
     "name": "stdout",
     "output_type": "stream",
     "text": [
      "The odds of you winning the lottery with 1 tickets are: 0.000007%\n",
      "The odds of you winning the lottery with 10 tickets are: 0.000072%\n",
      "The odds of you winning the lottery with 100 tickets are: 0.000715%\n",
      "The odds of you winning the lottery with 10000 tickets are: 0.071511%\n",
      "The odds of you winning the lottery with 1000000 tickets are: 7.151124%\n",
      "The odds of you winning the lottery with 6991908 tickets are: 50.000000%\n",
      "The odds of you winning the lottery with 13983816 tickets are: 100.000000%\n"
     ]
    }
   ],
   "source": [
    "test = [1, 10, 100, 10000, 1000000, 6991908, 13983816]\n",
    "\n",
    "for each in test:\n",
    "    multi_ticket_odds(each)"
   ]
  },
  {
   "cell_type": "markdown",
   "metadata": {},
   "source": [
    "Lottery ticket buyers usually purchase more than a single ticket to increase their chances at a prize, we wrote a function that allows us to present their odds at winning the grand prize when they buy multiple tickets."
   ]
  },
  {
   "cell_type": "markdown",
   "metadata": {
    "collapsed": true
   },
   "source": [
    "Lottery drawings also offer smaller prizes for ticket holders who match between 2 and 5 numbers from those drawn as part of the jackpot.\n",
    "\n",
    "It would be of interest to lottery ticket buyers to know what their odds are at those consolation prizes. "
   ]
  },
  {
   "cell_type": "code",
   "execution_count": 17,
   "metadata": {
    "collapsed": true
   },
   "outputs": [],
   "source": [
    "def matching_numbers(n):\n",
    "    n_choice = combinations(6,n)\n",
    "    n_outcomes = combinations(43,(6-n))\n",
    "    n_possibilities = n_choice*n_outcomes\n",
    "    odds = (n_possibilities/combinations(49,6))*100\n",
    "    print(\"\"\"The odds of winning a prize for having exactly {0} macthing numbers are: {1:.4f}%\"\"\".format(n,odds))"
   ]
  },
  {
   "cell_type": "code",
   "execution_count": 18,
   "metadata": {
    "collapsed": false,
    "scrolled": true
   },
   "outputs": [
    {
     "name": "stdout",
     "output_type": "stream",
     "text": [
      "The odds of winning a prize for having exactly 1 macthing numbers are: 41.3019%\n",
      "The odds of winning a prize for having exactly 2 macthing numbers are: 13.2378%\n",
      "The odds of winning a prize for having exactly 3 macthing numbers are: 1.7650%\n",
      "The odds of winning a prize for having exactly 4 macthing numbers are: 0.0969%\n",
      "The odds of winning a prize for having exactly 5 macthing numbers are: 0.0018%\n"
     ]
    }
   ],
   "source": [
    "test2 = [1, 2, 3, 4, 5]\n",
    "\n",
    "for each in test2:\n",
    "    matching_numbers(each)"
   ]
  },
  {
   "cell_type": "code",
   "execution_count": null,
   "metadata": {
    "collapsed": true
   },
   "outputs": [],
   "source": []
  }
 ],
 "metadata": {
  "kernelspec": {
   "display_name": "Python 3",
   "language": "python",
   "name": "python3"
  },
  "language_info": {
   "codemirror_mode": {
    "name": "ipython",
    "version": 3
   },
   "file_extension": ".py",
   "mimetype": "text/x-python",
   "name": "python",
   "nbconvert_exporter": "python",
   "pygments_lexer": "ipython3",
   "version": "3.4.3"
  }
 },
 "nbformat": 4,
 "nbformat_minor": 2
}
